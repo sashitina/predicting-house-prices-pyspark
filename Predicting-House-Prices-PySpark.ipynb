{
 "cells": [
  {
   "cell_type": "markdown",
   "id": "170eabbf",
   "metadata": {
    "id": "GEqQaHzsZ_bA"
   },
   "source": [
    "## Описание проекта\n",
    "\n",
    "Необходимо обучить модель линейной регрессии на данных о жилье в Калифорнии в 1990 году. На основе данных нужно предсказать медианную стоимость дома в жилом массиве. Для оценки качества модели будем использовать метрики RMSE, MAE и R2."
   ]
  },
  {
   "cell_type": "markdown",
   "id": "2c492fc7",
   "metadata": {
    "id": "53871372"
   },
   "source": [
    "## Подготовка данных"
   ]
  },
  {
   "cell_type": "markdown",
   "id": "40e9aa7b",
   "metadata": {},
   "source": [
    "Инициализируем локальную Spark-сессию:"
   ]
  },
  {
   "cell_type": "code",
   "execution_count": 1,
   "id": "d335b279",
   "metadata": {
    "id": "df92e3ec"
   },
   "outputs": [],
   "source": [
    "import pandas as pd \n",
    "import numpy as np\n",
    "\n",
    "import pyspark\n",
    "from pyspark.sql import SparkSession\n",
    "from pyspark.sql.types import *\n",
    "import pyspark.sql.functions as F\n",
    "\n",
    "from pyspark.ml.feature import StringIndexer, OneHotEncoder, VectorAssembler, StandardScaler\n",
    "from pyspark.ml.regression import LinearRegression\n",
    "from pyspark.ml.evaluation import RegressionEvaluator\n",
    "\n",
    "spark = SparkSession.builder \\\n",
    "                    .master(\"local\") \\\n",
    "                    .appName(\"California Housing Prices - Linear regression\") \\\n",
    "                    .getOrCreate()"
   ]
  },
  {
   "cell_type": "markdown",
   "id": "6a57deb6",
   "metadata": {},
   "source": [
    "Прочитаем содержимое файла:"
   ]
  },
  {
   "cell_type": "code",
   "execution_count": 2,
   "id": "8c6e62af",
   "metadata": {
    "scrolled": false
   },
   "outputs": [
    {
     "name": "stdout",
     "output_type": "stream",
     "text": [
      "root\n",
      " |-- longitude: double (nullable = true)\n",
      " |-- latitude: double (nullable = true)\n",
      " |-- housing_median_age: double (nullable = true)\n",
      " |-- total_rooms: double (nullable = true)\n",
      " |-- total_bedrooms: double (nullable = true)\n",
      " |-- population: double (nullable = true)\n",
      " |-- households: double (nullable = true)\n",
      " |-- median_income: double (nullable = true)\n",
      " |-- median_house_value: double (nullable = true)\n",
      " |-- ocean_proximity: string (nullable = true)\n",
      "\n"
     ]
    }
   ],
   "source": [
    "df = spark.read.load('/datasets/housing.csv', format=\"csv\", sep=\",\", inferSchema=True, header=True)\n",
    "df.printSchema()"
   ]
  },
  {
   "cell_type": "markdown",
   "id": "2170faf8",
   "metadata": {},
   "source": [
    "Выведем типы данных колонок датасета, используя методы pySpark."
   ]
  },
  {
   "cell_type": "code",
   "execution_count": 3,
   "id": "7c68fae1",
   "metadata": {},
   "outputs": [
    {
     "name": "stdout",
     "output_type": "stream",
     "text": [
      "               column    type\n",
      "0           longitude  double\n",
      "1            latitude  double\n",
      "2  housing_median_age  double\n",
      "3         total_rooms  double\n",
      "4      total_bedrooms  double\n",
      "5          population  double\n",
      "6          households  double\n",
      "7       median_income  double\n",
      "8  median_house_value  double\n",
      "9     ocean_proximity  string\n"
     ]
    }
   ],
   "source": [
    "print(pd.DataFrame(df.dtypes, columns=['column', 'type']))"
   ]
  },
  {
   "cell_type": "code",
   "execution_count": 4,
   "id": "11d8fe4c",
   "metadata": {
    "scrolled": true
   },
   "outputs": [
    {
     "name": "stdout",
     "output_type": "stream",
     "text": [
      "+---------+--------+------------------+-----------+--------------+----------+----------+-------------+------------------+---------------+\n",
      "|longitude|latitude|housing_median_age|total_rooms|total_bedrooms|population|households|median_income|median_house_value|ocean_proximity|\n",
      "+---------+--------+------------------+-----------+--------------+----------+----------+-------------+------------------+---------------+\n",
      "|  -122.23|   37.88|              41.0|      880.0|         129.0|     322.0|     126.0|       8.3252|          452600.0|       NEAR BAY|\n",
      "|  -122.22|   37.86|              21.0|     7099.0|        1106.0|    2401.0|    1138.0|       8.3014|          358500.0|       NEAR BAY|\n",
      "|  -122.24|   37.85|              52.0|     1467.0|         190.0|     496.0|     177.0|       7.2574|          352100.0|       NEAR BAY|\n",
      "|  -122.25|   37.85|              52.0|     1274.0|         235.0|     558.0|     219.0|       5.6431|          341300.0|       NEAR BAY|\n",
      "|  -122.25|   37.85|              52.0|     1627.0|         280.0|     565.0|     259.0|       3.8462|          342200.0|       NEAR BAY|\n",
      "+---------+--------+------------------+-----------+--------------+----------+----------+-------------+------------------+---------------+\n",
      "only showing top 5 rows\n",
      "\n"
     ]
    }
   ],
   "source": [
    "df.show(5)"
   ]
  },
  {
   "cell_type": "markdown",
   "id": "3708c1de",
   "metadata": {},
   "source": [
    "## Предобработка данных"
   ]
  },
  {
   "cell_type": "markdown",
   "id": "c2ed5cc1",
   "metadata": {},
   "source": [
    "Исследуем данные на наличие пропусков и заполним их средним значением:"
   ]
  },
  {
   "cell_type": "code",
   "execution_count": 5,
   "id": "fd1bc361",
   "metadata": {},
   "outputs": [
    {
     "name": "stdout",
     "output_type": "stream",
     "text": [
      "longitude 0\n",
      "latitude 0\n",
      "housing_median_age 0\n",
      "total_rooms 0\n",
      "total_bedrooms 207\n",
      "population 0\n",
      "households 0\n",
      "median_income 0\n",
      "median_house_value 0\n",
      "ocean_proximity 0\n"
     ]
    }
   ],
   "source": [
    "columns = df.columns\n",
    "\n",
    "for column in columns:\n",
    "    print(column, df.where(F.isnan(column) | F.col(column).isNull()).count()) "
   ]
  },
  {
   "cell_type": "code",
   "execution_count": 6,
   "id": "f7e118ee",
   "metadata": {
    "scrolled": true
   },
   "outputs": [],
   "source": [
    "df = df.na.fill(df.select(F.mean(df['total_bedrooms'])).collect()[0][0])"
   ]
  },
  {
   "cell_type": "code",
   "execution_count": 7,
   "id": "a399bd57",
   "metadata": {},
   "outputs": [
    {
     "name": "stdout",
     "output_type": "stream",
     "text": [
      "longitude 0\n",
      "latitude 0\n",
      "housing_median_age 0\n",
      "total_rooms 0\n",
      "total_bedrooms 0\n",
      "population 0\n",
      "households 0\n",
      "median_income 0\n",
      "median_house_value 0\n",
      "ocean_proximity 0\n"
     ]
    }
   ],
   "source": [
    "columns = df.columns\n",
    "\n",
    "for column in columns:\n",
    "    print(column, df.where(F.isnan(column) | F.col(column).isNull()).count()) "
   ]
  },
  {
   "cell_type": "markdown",
   "id": "0acbc429",
   "metadata": {},
   "source": [
    "Пропущенные значения обработаны."
   ]
  },
  {
   "cell_type": "code",
   "execution_count": 8,
   "id": "52fd7440",
   "metadata": {},
   "outputs": [],
   "source": [
    "categorical_cols = ['ocean_proximity']\n",
    "numerical_cols  = ['longitude', 'latitude', 'housing_median_age', 'total_rooms', 'total_bedrooms', 'population', 'households', 'median_income']\n",
    "target = 'median_house_value'"
   ]
  },
  {
   "cell_type": "markdown",
   "id": "f975f00b",
   "metadata": {},
   "source": [
    "### Трансформация категорийных признаков"
   ]
  },
  {
   "cell_type": "markdown",
   "id": "8b04f517",
   "metadata": {},
   "source": [
    "Преобразуем колонку с категориальными значениями:"
   ]
  },
  {
   "cell_type": "code",
   "execution_count": 9,
   "id": "4fbb2759",
   "metadata": {},
   "outputs": [],
   "source": [
    "indexer = StringIndexer(inputCol='ocean_proximity', \n",
    "                        outputCol='ocean_proximity_idx') \n",
    "df = indexer.fit(df).transform(df)"
   ]
  },
  {
   "cell_type": "code",
   "execution_count": 10,
   "id": "dbbc1df1",
   "metadata": {},
   "outputs": [],
   "source": [
    "encoder = OneHotEncoder(inputCol='ocean_proximity_idx',\n",
    "                        outputCol='ocean_proximity_ohe')\n",
    "df = encoder.transform(df)"
   ]
  },
  {
   "cell_type": "code",
   "execution_count": 11,
   "id": "9d217e59",
   "metadata": {
    "scrolled": false
   },
   "outputs": [
    {
     "name": "stdout",
     "output_type": "stream",
     "text": [
      "+---------+--------+------------------+-----------+--------------+----------+----------+-------------+------------------+---------------+-------------------+-------------------+\n",
      "|longitude|latitude|housing_median_age|total_rooms|total_bedrooms|population|households|median_income|median_house_value|ocean_proximity|ocean_proximity_idx|ocean_proximity_ohe|\n",
      "+---------+--------+------------------+-----------+--------------+----------+----------+-------------+------------------+---------------+-------------------+-------------------+\n",
      "|  -122.23|   37.88|              41.0|      880.0|         129.0|     322.0|     126.0|       8.3252|          452600.0|       NEAR BAY|                3.0|      (4,[3],[1.0])|\n",
      "|  -122.22|   37.86|              21.0|     7099.0|        1106.0|    2401.0|    1138.0|       8.3014|          358500.0|       NEAR BAY|                3.0|      (4,[3],[1.0])|\n",
      "|  -122.24|   37.85|              52.0|     1467.0|         190.0|     496.0|     177.0|       7.2574|          352100.0|       NEAR BAY|                3.0|      (4,[3],[1.0])|\n",
      "|  -122.25|   37.85|              52.0|     1274.0|         235.0|     558.0|     219.0|       5.6431|          341300.0|       NEAR BAY|                3.0|      (4,[3],[1.0])|\n",
      "|  -122.25|   37.85|              52.0|     1627.0|         280.0|     565.0|     259.0|       3.8462|          342200.0|       NEAR BAY|                3.0|      (4,[3],[1.0])|\n",
      "+---------+--------+------------------+-----------+--------------+----------+----------+-------------+------------------+---------------+-------------------+-------------------+\n",
      "only showing top 5 rows\n",
      "\n"
     ]
    }
   ],
   "source": [
    "df.show(5)"
   ]
  },
  {
   "cell_type": "markdown",
   "id": "66c5d308",
   "metadata": {},
   "source": [
    "### Трансформация числовых признаков"
   ]
  },
  {
   "cell_type": "code",
   "execution_count": 12,
   "id": "4b3f0526",
   "metadata": {},
   "outputs": [],
   "source": [
    "numerical_assembler = VectorAssembler(inputCols=numerical_cols,\n",
    "                                                                            outputCol=\"numerical_features\")\n",
    "df = numerical_assembler.transform(df)"
   ]
  },
  {
   "cell_type": "code",
   "execution_count": 13,
   "id": "f1aefd09",
   "metadata": {
    "scrolled": true
   },
   "outputs": [],
   "source": [
    "standardScaler = StandardScaler(inputCol='numerical_features',\n",
    "                                outputCol='numerical_features_scaled')\n",
    "df = standardScaler.fit(df).transform(df)"
   ]
  },
  {
   "cell_type": "code",
   "execution_count": 14,
   "id": "0920ec5c",
   "metadata": {
    "scrolled": true
   },
   "outputs": [
    {
     "name": "stdout",
     "output_type": "stream",
     "text": [
      "['longitude', 'latitude', 'housing_median_age', 'total_rooms', 'total_bedrooms', 'population', 'households', 'median_income', 'median_house_value', 'ocean_proximity', 'ocean_proximity_idx', 'ocean_proximity_ohe', 'numerical_features', 'numerical_features_scaled']\n"
     ]
    }
   ],
   "source": [
    "print(df.columns)"
   ]
  },
  {
   "cell_type": "code",
   "execution_count": 15,
   "id": "e778deaf",
   "metadata": {},
   "outputs": [
    {
     "name": "stdout",
     "output_type": "stream",
     "text": [
      "+-------------------+-------------------------+\n",
      "|ocean_proximity_ohe|numerical_features_scaled|\n",
      "+-------------------+-------------------------+\n",
      "|      (4,[3],[1.0])|     [-61.007269596069...|\n",
      "|      (4,[3],[1.0])|     [-61.002278409814...|\n",
      "|      (4,[3],[1.0])|     [-61.012260782324...|\n",
      "+-------------------+-------------------------+\n",
      "only showing top 3 rows\n",
      "\n"
     ]
    }
   ],
   "source": [
    "all_features = ['ocean_proximity_ohe','numerical_features_scaled']\n",
    "\n",
    "final_assembler = VectorAssembler(inputCols=all_features, \n",
    "                                  outputCol=\"features\") \n",
    "df = final_assembler.transform(df)\n",
    "\n",
    "df.select(all_features).show(3)"
   ]
  },
  {
   "cell_type": "markdown",
   "id": "bcefe2ce",
   "metadata": {
    "id": "9f0a82f3"
   },
   "source": [
    "## Обучение моделей"
   ]
  },
  {
   "cell_type": "markdown",
   "id": "27d116d3",
   "metadata": {},
   "source": [
    "**Разделение на выборки**"
   ]
  },
  {
   "cell_type": "code",
   "execution_count": 16,
   "id": "5f804432",
   "metadata": {},
   "outputs": [
    {
     "name": "stdout",
     "output_type": "stream",
     "text": [
      "15483 5157\n"
     ]
    }
   ],
   "source": [
    "train, test = df.randomSplit([.75,.25], seed=50)\n",
    "print(train.count(), test.count())"
   ]
  },
  {
   "cell_type": "markdown",
   "id": "e1a15750",
   "metadata": {
    "id": "bddb08c4"
   },
   "source": [
    "**1-я модель (на всех данных)**"
   ]
  },
  {
   "cell_type": "code",
   "execution_count": 17,
   "id": "a35b0b15",
   "metadata": {},
   "outputs": [],
   "source": [
    "lin_reg = LinearRegression(labelCol=target, featuresCol='features')\n",
    "\n",
    "model = lin_reg.fit(train)"
   ]
  },
  {
   "cell_type": "code",
   "execution_count": 18,
   "id": "e4d98037",
   "metadata": {},
   "outputs": [],
   "source": [
    "predictions = model.transform(test)"
   ]
  },
  {
   "cell_type": "code",
   "execution_count": 19,
   "id": "03429c54",
   "metadata": {},
   "outputs": [
    {
     "name": "stdout",
     "output_type": "stream",
     "text": [
      "+------------------+------------------+\n",
      "|median_house_value|        prediction|\n",
      "+------------------+------------------+\n",
      "|           85800.0|112775.02561120596|\n",
      "|          106700.0|217000.51716408506|\n",
      "|           78300.0|123949.82666503266|\n",
      "|           58100.0|139845.54929901334|\n",
      "|           68400.0|128588.37228447525|\n",
      "|           69000.0|175334.48692065058|\n",
      "|           74600.0| 101689.4989769524|\n",
      "|          107000.0|189365.89968481427|\n",
      "|           70200.0|168960.48869066592|\n",
      "|           82800.0|170780.10405364633|\n",
      "|           62500.0| 164765.5282365447|\n",
      "|           75500.0| 157775.3736198349|\n",
      "|           69500.0|110257.09505755082|\n",
      "|           75000.0|103499.03062554495|\n",
      "|          100600.0|190565.93900943873|\n",
      "|           57500.0|138671.47686157282|\n",
      "|           76800.0| 146524.8069010866|\n",
      "|           66800.0| 131665.3384734667|\n",
      "|          130600.0|216816.69767593034|\n",
      "|          122400.0|124116.79892787198|\n",
      "+------------------+------------------+\n",
      "only showing top 20 rows\n",
      "\n"
     ]
    }
   ],
   "source": [
    "predictedLabes = predictions.select(\"median_house_value\", \"prediction\")\n",
    "predictedLabes.show() "
   ]
  },
  {
   "cell_type": "code",
   "execution_count": 20,
   "id": "9e6d45db",
   "metadata": {},
   "outputs": [
    {
     "name": "stdout",
     "output_type": "stream",
     "text": [
      "RMSE: 66979.137\n",
      "MAE: 49074.114\n",
      "R2: 0.649\n"
     ]
    }
   ],
   "source": [
    "evaluation = RegressionEvaluator(labelCol='median_house_value', predictionCol='prediction')\n",
    "\n",
    "# Root Mean Square Error\n",
    "rmse = evaluation.evaluate(predictions, {evaluation.metricName: 'rmse'})\n",
    "print('RMSE: %.3f' % rmse)\n",
    "\n",
    "# Mean Absolute Error\n",
    "mae = evaluation.evaluate(predictions, {evaluation.metricName: 'mae'})\n",
    "print('MAE: %.3f' % mae)\n",
    "\n",
    "# Coefficient of Determination\n",
    "r2 = evaluation.evaluate(predictions, {evaluation.metricName: 'r2'})\n",
    "print('R2: %.3f' % r2)"
   ]
  },
  {
   "cell_type": "markdown",
   "id": "0d6faeb0",
   "metadata": {},
   "source": [
    "**2-я модель (только числовые признаки)**"
   ]
  },
  {
   "cell_type": "code",
   "execution_count": 21,
   "id": "e2f9940b",
   "metadata": {},
   "outputs": [
    {
     "name": "stdout",
     "output_type": "stream",
     "text": [
      "['longitude', 'latitude', 'housing_median_age', 'total_rooms', 'total_bedrooms', 'population', 'households', 'median_income', 'median_house_value', 'ocean_proximity', 'ocean_proximity_idx', 'ocean_proximity_ohe', 'numerical_features', 'numerical_features_scaled', 'features']\n"
     ]
    }
   ],
   "source": [
    "print(df.columns)"
   ]
  },
  {
   "cell_type": "code",
   "execution_count": 22,
   "id": "9f5cb52a",
   "metadata": {},
   "outputs": [],
   "source": [
    "train = train.drop('ocean_proximity', 'ocean_proximity_idx', 'ocean_proximity_ohe', 'features')\n",
    "test = test.drop('ocean_proximity', 'ocean_proximity_idx', 'ocean_proximity_ohe', 'features')"
   ]
  },
  {
   "cell_type": "code",
   "execution_count": 23,
   "id": "f3bbe13c",
   "metadata": {},
   "outputs": [],
   "source": [
    "lin_reg = LinearRegression(labelCol=target, featuresCol='numerical_features_scaled')\n",
    "\n",
    "model = lin_reg.fit(train)"
   ]
  },
  {
   "cell_type": "code",
   "execution_count": 24,
   "id": "933feb18",
   "metadata": {},
   "outputs": [],
   "source": [
    "predictions = model.transform(test)"
   ]
  },
  {
   "cell_type": "code",
   "execution_count": 25,
   "id": "0760f58a",
   "metadata": {
    "scrolled": false
   },
   "outputs": [
    {
     "name": "stdout",
     "output_type": "stream",
     "text": [
      "+------------------+------------------+\n",
      "|median_house_value|        prediction|\n",
      "+------------------+------------------+\n",
      "|           85800.0| 64264.05228924099|\n",
      "|          106700.0| 191744.0279452675|\n",
      "|           78300.0| 76829.47979936935|\n",
      "|           58100.0|109128.55047097476|\n",
      "|           68400.0| 79686.44044737285|\n",
      "|           69000.0|144267.39697506418|\n",
      "|           74600.0| 51850.39417120721|\n",
      "|          107000.0|161088.68991208728|\n",
      "|           70200.0|137826.49449833762|\n",
      "|           82800.0|139192.40682131844|\n",
      "|           62500.0| 134059.3510107263|\n",
      "|           75500.0|127419.04430415668|\n",
      "|           69500.0| 60488.17634099815|\n",
      "|           75000.0| 50586.07096783817|\n",
      "|          100600.0|158427.90378290508|\n",
      "|           57500.0|104711.65859676572|\n",
      "|           76800.0|115980.07596153207|\n",
      "|           66800.0|101523.10843930952|\n",
      "|          130600.0|187276.34619002696|\n",
      "|          122400.0| 71282.29426170001|\n",
      "+------------------+------------------+\n",
      "only showing top 20 rows\n",
      "\n"
     ]
    }
   ],
   "source": [
    "predictedLabes = predictions.select(\"median_house_value\", \"prediction\")\n",
    "predictedLabes.show() "
   ]
  },
  {
   "cell_type": "code",
   "execution_count": 26,
   "id": "f1ea5cc2",
   "metadata": {},
   "outputs": [
    {
     "name": "stdout",
     "output_type": "stream",
     "text": [
      "RMSE: 68063.775\n",
      "MAE: 50367.215\n",
      "R2: 0.637\n"
     ]
    }
   ],
   "source": [
    "evaluation = RegressionEvaluator(labelCol='median_house_value', predictionCol='prediction')\n",
    "\n",
    "# Root Mean Square Error\n",
    "rmse = evaluation.evaluate(predictions, {evaluation.metricName: 'rmse'})\n",
    "print('RMSE: %.3f' % rmse)\n",
    "\n",
    "# Mean Absolute Error\n",
    "mae = evaluation.evaluate(predictions, {evaluation.metricName: 'mae'})\n",
    "print('MAE: %.3f' % mae)\n",
    "\n",
    "# Coefficient of Determination\n",
    "r2 = evaluation.evaluate(predictions, {evaluation.metricName: 'r2'})\n",
    "print('R2: %.3f' % r2)"
   ]
  },
  {
   "cell_type": "markdown",
   "id": "31a0b3b0",
   "metadata": {
    "id": "757fd103"
   },
   "source": [
    "## Анализ результатов"
   ]
  },
  {
   "cell_type": "markdown",
   "id": "a7047a38",
   "metadata": {},
   "source": [
    "Модель, построенная с использованием только числовых признаков показала результат хуже, чем модель, включающая категориальный признак."
   ]
  }
 ],
 "metadata": {
  "ExecuteTimeLog": [
   {
    "duration": 1602,
    "start_time": "2022-02-14T17:46:56.321Z"
   },
   {
    "duration": 315,
    "start_time": "2022-02-14T17:47:22.064Z"
   },
   {
    "duration": 25556,
    "start_time": "2022-02-14T17:47:52.683Z"
   },
   {
    "duration": 1418,
    "start_time": "2022-02-14T17:52:05.641Z"
   },
   {
    "duration": 1245,
    "start_time": "2022-02-14T17:52:17.307Z"
   },
   {
    "duration": 1118,
    "start_time": "2022-02-14T17:53:25.064Z"
   },
   {
    "duration": 920,
    "start_time": "2022-02-14T17:58:30.443Z"
   },
   {
    "duration": 1516,
    "start_time": "2022-02-14T18:03:01.524Z"
   },
   {
    "duration": 1067,
    "start_time": "2022-02-14T18:03:51.829Z"
   },
   {
    "duration": 863,
    "start_time": "2022-02-14T18:04:02.178Z"
   },
   {
    "duration": 7,
    "start_time": "2022-02-14T18:04:40.749Z"
   },
   {
    "duration": 821,
    "start_time": "2022-02-14T18:05:11.839Z"
   },
   {
    "duration": 1157,
    "start_time": "2022-02-14T18:06:24.173Z"
   },
   {
    "duration": 1053,
    "start_time": "2022-02-14T18:06:34.502Z"
   },
   {
    "duration": 696,
    "start_time": "2022-02-14T18:06:44.176Z"
   },
   {
    "duration": 1059,
    "start_time": "2022-02-14T18:06:50.104Z"
   },
   {
    "duration": 38,
    "start_time": "2022-02-14T18:08:49.517Z"
   },
   {
    "duration": 324,
    "start_time": "2022-02-14T18:13:07.097Z"
   },
   {
    "duration": 855,
    "start_time": "2022-02-14T18:13:15.290Z"
   },
   {
    "duration": 417,
    "start_time": "2022-02-14T18:13:34.041Z"
   },
   {
    "duration": 1151,
    "start_time": "2022-02-14T18:13:38.385Z"
   },
   {
    "duration": 864,
    "start_time": "2022-02-14T18:13:43.727Z"
   },
   {
    "duration": 1088,
    "start_time": "2022-02-14T18:13:48.990Z"
   },
   {
    "duration": 585,
    "start_time": "2022-02-14T18:22:26.517Z"
   },
   {
    "duration": 835,
    "start_time": "2022-02-14T18:22:29.397Z"
   },
   {
    "duration": 340,
    "start_time": "2022-02-14T18:25:28.042Z"
   },
   {
    "duration": 566,
    "start_time": "2022-02-14T18:25:40.165Z"
   },
   {
    "duration": 477,
    "start_time": "2022-02-14T18:25:46.557Z"
   },
   {
    "duration": 494,
    "start_time": "2022-02-14T18:25:55.905Z"
   },
   {
    "duration": 697,
    "start_time": "2022-02-14T18:26:27.277Z"
   },
   {
    "duration": 415,
    "start_time": "2022-02-14T18:29:12.210Z"
   },
   {
    "duration": 588,
    "start_time": "2022-02-14T18:29:48.850Z"
   },
   {
    "duration": 398,
    "start_time": "2022-02-14T18:30:16.635Z"
   },
   {
    "duration": 387,
    "start_time": "2022-02-14T18:30:28.949Z"
   },
   {
    "duration": 755,
    "start_time": "2022-02-14T18:31:10.306Z"
   },
   {
    "duration": 10,
    "start_time": "2022-02-14T18:32:36.981Z"
   },
   {
    "duration": 17528,
    "start_time": "2022-02-14T18:32:47.633Z"
   },
   {
    "duration": 11069,
    "start_time": "2022-02-14T18:33:05.168Z"
   },
   {
    "duration": 104,
    "start_time": "2022-02-14T18:33:16.240Z"
   },
   {
    "duration": 17120,
    "start_time": "2022-02-14T19:02:26.730Z"
   },
   {
    "duration": 10772,
    "start_time": "2022-02-14T19:02:43.854Z"
   },
   {
    "duration": 101,
    "start_time": "2022-02-14T19:02:54.630Z"
   },
   {
    "duration": 912,
    "start_time": "2022-02-14T19:02:54.733Z"
   },
   {
    "duration": 549,
    "start_time": "2022-02-14T19:03:07.774Z"
   },
   {
    "duration": 8646,
    "start_time": "2022-02-14T19:03:45.427Z"
   },
   {
    "duration": 3696,
    "start_time": "2022-02-14T19:04:07.366Z"
   },
   {
    "duration": 5387,
    "start_time": "2022-02-14T19:04:18.748Z"
   },
   {
    "duration": 4681,
    "start_time": "2022-02-14T19:04:32.516Z"
   },
   {
    "duration": 473,
    "start_time": "2022-02-14T19:06:23.552Z"
   },
   {
    "duration": 3551,
    "start_time": "2022-02-14T19:06:33.536Z"
   },
   {
    "duration": 374,
    "start_time": "2022-02-14T19:21:11.015Z"
   },
   {
    "duration": 477,
    "start_time": "2022-02-14T19:24:36.493Z"
   },
   {
    "duration": 346,
    "start_time": "2022-02-14T19:25:19.609Z"
   },
   {
    "duration": 3338,
    "start_time": "2022-02-14T19:25:20.979Z"
   },
   {
    "duration": 507,
    "start_time": "2022-02-14T19:27:01.424Z"
   },
   {
    "duration": 566,
    "start_time": "2022-02-14T19:30:19.395Z"
   },
   {
    "duration": 3739,
    "start_time": "2022-02-14T19:30:44.389Z"
   },
   {
    "duration": 19102,
    "start_time": "2022-02-14T19:31:01.742Z"
   },
   {
    "duration": 10972,
    "start_time": "2022-02-14T19:31:20.853Z"
   },
   {
    "duration": 41,
    "start_time": "2022-02-14T19:31:31.829Z"
   },
   {
    "duration": 1014,
    "start_time": "2022-02-14T19:31:31.873Z"
   },
   {
    "duration": 9659,
    "start_time": "2022-02-14T19:31:32.890Z"
   },
   {
    "duration": 4995,
    "start_time": "2022-02-14T19:31:42.551Z"
   },
   {
    "duration": 699,
    "start_time": "2022-02-14T19:31:47.548Z"
   },
   {
    "duration": 3792,
    "start_time": "2022-02-14T19:31:48.249Z"
   },
   {
    "duration": 349,
    "start_time": "2022-02-14T19:33:06.878Z"
   },
   {
    "duration": 586,
    "start_time": "2022-02-14T19:33:08.407Z"
   },
   {
    "duration": 17507,
    "start_time": "2022-02-14T19:33:28.480Z"
   },
   {
    "duration": 10003,
    "start_time": "2022-02-14T19:33:46.023Z"
   },
   {
    "duration": 117,
    "start_time": "2022-02-14T19:33:56.032Z"
   },
   {
    "duration": 889,
    "start_time": "2022-02-14T19:33:56.153Z"
   },
   {
    "duration": 9397,
    "start_time": "2022-02-14T19:33:57.047Z"
   },
   {
    "duration": 5494,
    "start_time": "2022-02-14T19:34:06.446Z"
   },
   {
    "duration": 719,
    "start_time": "2022-02-14T19:34:11.943Z"
   },
   {
    "duration": 501,
    "start_time": "2022-02-14T19:34:12.664Z"
   },
   {
    "duration": 350,
    "start_time": "2022-02-14T19:34:44.548Z"
   },
   {
    "duration": 363,
    "start_time": "2022-02-14T19:37:24.470Z"
   },
   {
    "duration": 333,
    "start_time": "2022-02-14T19:37:54.950Z"
   },
   {
    "duration": 18608,
    "start_time": "2022-02-14T19:38:15.070Z"
   },
   {
    "duration": 11159,
    "start_time": "2022-02-14T19:38:33.682Z"
   },
   {
    "duration": 90,
    "start_time": "2022-02-14T19:38:44.845Z"
   },
   {
    "duration": 913,
    "start_time": "2022-02-14T19:38:44.938Z"
   },
   {
    "duration": 9291,
    "start_time": "2022-02-14T19:38:45.854Z"
   },
   {
    "duration": 4918,
    "start_time": "2022-02-14T19:38:55.158Z"
   },
   {
    "duration": 654,
    "start_time": "2022-02-14T19:39:00.132Z"
   },
   {
    "duration": 3569,
    "start_time": "2022-02-14T19:39:24.655Z"
   },
   {
    "duration": 341,
    "start_time": "2022-02-14T19:39:35.623Z"
   },
   {
    "duration": 450,
    "start_time": "2022-02-14T19:39:39.682Z"
   },
   {
    "duration": 339,
    "start_time": "2022-02-14T19:39:45.664Z"
   },
   {
    "duration": 376,
    "start_time": "2022-02-14T19:40:12.629Z"
   },
   {
    "duration": 18064,
    "start_time": "2022-02-14T19:40:22.198Z"
   },
   {
    "duration": 10778,
    "start_time": "2022-02-14T19:40:40.266Z"
   },
   {
    "duration": 108,
    "start_time": "2022-02-14T19:40:51.046Z"
   },
   {
    "duration": 1092,
    "start_time": "2022-02-14T19:40:51.157Z"
   },
   {
    "duration": 9789,
    "start_time": "2022-02-14T19:40:52.252Z"
   },
   {
    "duration": 5285,
    "start_time": "2022-02-14T19:41:02.044Z"
   },
   {
    "duration": 702,
    "start_time": "2022-02-14T19:41:07.333Z"
   },
   {
    "duration": 517,
    "start_time": "2022-02-14T19:41:08.040Z"
   },
   {
    "duration": 330,
    "start_time": "2022-02-14T19:44:50.491Z"
   },
   {
    "duration": 17515,
    "start_time": "2022-02-14T19:45:02.755Z"
   },
   {
    "duration": 9770,
    "start_time": "2022-02-14T19:45:20.275Z"
   },
   {
    "duration": 99,
    "start_time": "2022-02-14T19:45:30.048Z"
   },
   {
    "duration": 901,
    "start_time": "2022-02-14T19:45:30.150Z"
   },
   {
    "duration": 9277,
    "start_time": "2022-02-14T19:45:31.055Z"
   },
   {
    "duration": 5194,
    "start_time": "2022-02-14T19:45:40.335Z"
   },
   {
    "duration": 607,
    "start_time": "2022-02-14T19:45:45.531Z"
   },
   {
    "duration": 662,
    "start_time": "2022-02-14T19:45:46.141Z"
   },
   {
    "duration": 18425,
    "start_time": "2022-02-14T19:46:31.334Z"
   },
   {
    "duration": 10973,
    "start_time": "2022-02-14T19:46:49.763Z"
   },
   {
    "duration": 108,
    "start_time": "2022-02-14T19:47:00.739Z"
   },
   {
    "duration": 882,
    "start_time": "2022-02-14T19:47:00.850Z"
   },
   {
    "duration": 10292,
    "start_time": "2022-02-14T19:47:01.735Z"
   },
   {
    "duration": 4721,
    "start_time": "2022-02-14T19:47:12.032Z"
   },
   {
    "duration": 3,
    "start_time": "2022-02-14T19:47:16.756Z"
   },
   {
    "duration": 78,
    "start_time": "2022-02-14T19:47:16.763Z"
   },
   {
    "duration": 424,
    "start_time": "2022-02-14T19:47:16.845Z"
   },
   {
    "duration": 341,
    "start_time": "2022-02-14T19:48:01.644Z"
   },
   {
    "duration": 4840,
    "start_time": "2022-02-14T19:48:15.712Z"
   },
   {
    "duration": 4,
    "start_time": "2022-02-14T19:49:52.051Z"
   },
   {
    "duration": 4,
    "start_time": "2022-02-14T19:49:58.236Z"
   },
   {
    "duration": 476,
    "start_time": "2022-02-14T19:51:13.708Z"
   },
   {
    "duration": 338,
    "start_time": "2022-02-14T19:53:53.088Z"
   },
   {
    "duration": 308,
    "start_time": "2022-02-14T19:54:06.713Z"
   },
   {
    "duration": 386,
    "start_time": "2022-02-14T19:54:11.382Z"
   },
   {
    "duration": 315,
    "start_time": "2022-02-14T19:55:29.087Z"
   },
   {
    "duration": 362,
    "start_time": "2022-02-14T19:56:12.849Z"
   },
   {
    "duration": 318,
    "start_time": "2022-02-14T19:56:25.927Z"
   },
   {
    "duration": 347,
    "start_time": "2022-02-14T19:56:58.521Z"
   },
   {
    "duration": 321,
    "start_time": "2022-02-14T19:57:30.604Z"
   },
   {
    "duration": 1576,
    "start_time": "2022-02-14T19:58:33.306Z"
   },
   {
    "duration": 679,
    "start_time": "2022-02-14T19:59:01.357Z"
   },
   {
    "duration": 377,
    "start_time": "2022-02-14T20:02:03.021Z"
   },
   {
    "duration": 335,
    "start_time": "2022-02-14T20:02:20.375Z"
   },
   {
    "duration": 8,
    "start_time": "2022-02-14T20:02:35.749Z"
   },
   {
    "duration": 346,
    "start_time": "2022-02-14T20:02:40.527Z"
   },
   {
    "duration": 398,
    "start_time": "2022-02-14T20:03:28.849Z"
   },
   {
    "duration": 19201,
    "start_time": "2022-02-14T20:04:21.723Z"
   },
   {
    "duration": 10627,
    "start_time": "2022-02-14T20:04:40.928Z"
   },
   {
    "duration": 95,
    "start_time": "2022-02-14T20:04:51.559Z"
   },
   {
    "duration": 1092,
    "start_time": "2022-02-14T20:04:51.657Z"
   },
   {
    "duration": 9873,
    "start_time": "2022-02-14T20:04:52.752Z"
   },
   {
    "duration": 5128,
    "start_time": "2022-02-14T20:05:02.627Z"
   },
   {
    "duration": 4,
    "start_time": "2022-02-14T20:05:07.825Z"
   },
   {
    "duration": 20,
    "start_time": "2022-02-14T20:05:07.831Z"
   },
   {
    "duration": 5170,
    "start_time": "2022-02-14T20:05:07.856Z"
   },
   {
    "duration": 6,
    "start_time": "2022-02-14T20:05:13.029Z"
   },
   {
    "duration": 518,
    "start_time": "2022-02-14T20:05:13.038Z"
   },
   {
    "duration": 20,
    "start_time": "2022-02-14T20:05:13.541Z"
   },
   {
    "duration": 20,
    "start_time": "2022-02-14T20:05:13.543Z"
   },
   {
    "duration": 13,
    "start_time": "2022-02-14T20:05:55.525Z"
   },
   {
    "duration": 1781,
    "start_time": "2022-02-14T20:05:59.495Z"
   },
   {
    "duration": 367,
    "start_time": "2022-02-14T20:06:02.151Z"
   },
   {
    "duration": 341,
    "start_time": "2022-02-14T20:06:44.646Z"
   },
   {
    "duration": 660,
    "start_time": "2022-02-14T20:08:08.574Z"
   },
   {
    "duration": 327,
    "start_time": "2022-02-14T20:08:14.298Z"
   },
   {
    "duration": 371,
    "start_time": "2022-02-14T20:09:01.319Z"
   },
   {
    "duration": 370,
    "start_time": "2022-02-14T20:10:04.263Z"
   },
   {
    "duration": 350,
    "start_time": "2022-02-14T20:10:16.683Z"
   },
   {
    "duration": 192,
    "start_time": "2022-02-14T20:10:27.052Z"
   },
   {
    "duration": 466,
    "start_time": "2022-02-14T20:10:29.135Z"
   },
   {
    "duration": 336,
    "start_time": "2022-02-14T20:10:31.578Z"
   },
   {
    "duration": 422,
    "start_time": "2022-02-14T20:10:36.583Z"
   },
   {
    "duration": 361,
    "start_time": "2022-02-14T20:10:45.117Z"
   },
   {
    "duration": 1013,
    "start_time": "2022-02-14T20:15:02.010Z"
   },
   {
    "duration": 19902,
    "start_time": "2022-02-14T20:15:13.127Z"
   },
   {
    "duration": 11022,
    "start_time": "2022-02-14T20:15:33.037Z"
   },
   {
    "duration": 98,
    "start_time": "2022-02-14T20:15:44.062Z"
   },
   {
    "duration": 983,
    "start_time": "2022-02-14T20:15:44.163Z"
   },
   {
    "duration": 9976,
    "start_time": "2022-02-14T20:15:45.148Z"
   },
   {
    "duration": 5209,
    "start_time": "2022-02-14T20:15:55.127Z"
   },
   {
    "duration": 1108,
    "start_time": "2022-02-14T20:16:00.338Z"
   },
   {
    "duration": 3,
    "start_time": "2022-02-14T20:16:01.448Z"
   },
   {
    "duration": 4539,
    "start_time": "2022-02-14T20:16:01.525Z"
   },
   {
    "duration": 5,
    "start_time": "2022-02-14T20:16:06.067Z"
   },
   {
    "duration": 1586,
    "start_time": "2022-02-14T20:16:06.075Z"
   },
   {
    "duration": 266,
    "start_time": "2022-02-14T20:16:07.664Z"
   },
   {
    "duration": 630,
    "start_time": "2022-02-14T20:16:07.933Z"
   },
   {
    "duration": 481,
    "start_time": "2022-02-14T20:16:08.566Z"
   },
   {
    "duration": 803,
    "start_time": "2022-02-14T20:16:22.350Z"
   },
   {
    "duration": 5467,
    "start_time": "2022-02-14T20:16:24.946Z"
   },
   {
    "duration": 18880,
    "start_time": "2022-02-14T20:16:42.290Z"
   },
   {
    "duration": 12313,
    "start_time": "2022-02-14T20:17:01.226Z"
   },
   {
    "duration": 116,
    "start_time": "2022-02-14T20:17:13.544Z"
   },
   {
    "duration": 1077,
    "start_time": "2022-02-14T20:17:13.664Z"
   },
   {
    "duration": 9397,
    "start_time": "2022-02-14T20:17:14.745Z"
   },
   {
    "duration": 5337,
    "start_time": "2022-02-14T20:17:24.145Z"
   },
   {
    "duration": 1107,
    "start_time": "2022-02-14T20:17:29.524Z"
   },
   {
    "duration": 3,
    "start_time": "2022-02-14T20:17:30.634Z"
   },
   {
    "duration": 4804,
    "start_time": "2022-02-14T20:17:30.642Z"
   },
   {
    "duration": 5,
    "start_time": "2022-02-14T20:17:35.449Z"
   },
   {
    "duration": 1568,
    "start_time": "2022-02-14T20:17:35.456Z"
   },
   {
    "duration": 306,
    "start_time": "2022-02-14T20:17:37.027Z"
   },
   {
    "duration": 713,
    "start_time": "2022-02-14T20:17:37.336Z"
   },
   {
    "duration": 441,
    "start_time": "2022-02-14T20:17:38.051Z"
   },
   {
    "duration": 313,
    "start_time": "2022-02-14T20:17:48.509Z"
   },
   {
    "duration": 351,
    "start_time": "2022-02-14T20:17:54.761Z"
   },
   {
    "duration": 337,
    "start_time": "2022-02-14T20:18:44.728Z"
   },
   {
    "duration": 162,
    "start_time": "2022-02-14T20:22:00.380Z"
   },
   {
    "duration": 1796,
    "start_time": "2022-02-14T20:22:37.143Z"
   },
   {
    "duration": 795,
    "start_time": "2022-02-14T20:23:02.939Z"
   },
   {
    "duration": 725,
    "start_time": "2022-02-14T20:23:20.713Z"
   },
   {
    "duration": 7113,
    "start_time": "2022-02-14T20:23:31.647Z"
   },
   {
    "duration": 355,
    "start_time": "2022-02-14T20:24:11.074Z"
   },
   {
    "duration": 18121,
    "start_time": "2022-02-14T20:24:32.404Z"
   },
   {
    "duration": 10838,
    "start_time": "2022-02-14T20:24:50.530Z"
   },
   {
    "duration": 99,
    "start_time": "2022-02-14T20:25:01.426Z"
   },
   {
    "duration": 1016,
    "start_time": "2022-02-14T20:25:01.528Z"
   },
   {
    "duration": 9505,
    "start_time": "2022-02-14T20:25:02.547Z"
   },
   {
    "duration": 5591,
    "start_time": "2022-02-14T20:25:12.054Z"
   },
   {
    "duration": 1201,
    "start_time": "2022-02-14T20:25:17.648Z"
   },
   {
    "duration": 4,
    "start_time": "2022-02-14T20:25:18.925Z"
   },
   {
    "duration": 4150,
    "start_time": "2022-02-14T20:25:18.935Z"
   },
   {
    "duration": 37,
    "start_time": "2022-02-14T20:25:23.088Z"
   },
   {
    "duration": 1627,
    "start_time": "2022-02-14T20:25:23.128Z"
   },
   {
    "duration": 300,
    "start_time": "2022-02-14T20:25:24.757Z"
   },
   {
    "duration": 809,
    "start_time": "2022-02-14T20:25:25.059Z"
   },
   {
    "duration": 272,
    "start_time": "2022-02-14T20:25:25.871Z"
   },
   {
    "duration": 1888,
    "start_time": "2022-02-14T20:25:26.146Z"
   },
   {
    "duration": 7266,
    "start_time": "2022-02-14T20:25:28.037Z"
   },
   {
    "duration": 6,
    "start_time": "2022-02-14T20:26:47.344Z"
   },
   {
    "duration": 1370,
    "start_time": "2022-02-14T20:27:18.163Z"
   },
   {
    "duration": 435,
    "start_time": "2022-02-14T20:28:27.548Z"
   },
   {
    "duration": 4788,
    "start_time": "2022-02-14T20:30:55.973Z"
   },
   {
    "duration": 2832,
    "start_time": "2022-02-14T20:31:49.698Z"
   },
   {
    "duration": 3026,
    "start_time": "2022-02-14T20:32:23.011Z"
   },
   {
    "duration": 3231,
    "start_time": "2022-02-14T20:32:30.007Z"
   },
   {
    "duration": 446,
    "start_time": "2022-02-14T20:33:52.915Z"
   },
   {
    "duration": 2483,
    "start_time": "2022-02-14T20:34:36.547Z"
   },
   {
    "duration": 1925,
    "start_time": "2022-02-14T20:34:41.061Z"
   },
   {
    "duration": 2529,
    "start_time": "2022-02-14T20:37:47.008Z"
   },
   {
    "duration": 7459,
    "start_time": "2022-02-14T20:38:20.983Z"
   },
   {
    "duration": 337,
    "start_time": "2022-02-14T20:39:15.461Z"
   },
   {
    "duration": 2095,
    "start_time": "2022-02-14T20:39:46.950Z"
   },
   {
    "duration": 5525,
    "start_time": "2022-02-14T20:39:50.119Z"
   },
   {
    "duration": 3723,
    "start_time": "2022-02-14T20:39:56.845Z"
   },
   {
    "duration": 1435,
    "start_time": "2022-02-14T20:42:46.669Z"
   },
   {
    "duration": 23,
    "start_time": "2022-02-14T20:45:58.668Z"
   },
   {
    "duration": 329,
    "start_time": "2022-02-14T20:46:51.903Z"
   },
   {
    "duration": 8,
    "start_time": "2022-02-14T20:49:13.671Z"
   },
   {
    "duration": 385,
    "start_time": "2022-02-14T20:50:04.763Z"
   },
   {
    "duration": 3909,
    "start_time": "2022-02-14T20:51:15.947Z"
   },
   {
    "duration": 1656,
    "start_time": "2022-02-14T20:51:20.677Z"
   },
   {
    "duration": 18858,
    "start_time": "2022-02-15T16:21:09.000Z"
   },
   {
    "duration": 7784,
    "start_time": "2022-02-15T16:21:27.860Z"
   },
   {
    "duration": 92,
    "start_time": "2022-02-15T16:21:35.646Z"
   },
   {
    "duration": 607,
    "start_time": "2022-02-15T16:21:35.741Z"
   },
   {
    "duration": 5363,
    "start_time": "2022-02-15T16:21:36.350Z"
   },
   {
    "duration": 3218,
    "start_time": "2022-02-15T16:21:41.715Z"
   },
   {
    "duration": 713,
    "start_time": "2022-02-15T16:21:44.935Z"
   },
   {
    "duration": 2,
    "start_time": "2022-02-15T16:21:45.712Z"
   },
   {
    "duration": 2547,
    "start_time": "2022-02-15T16:21:45.717Z"
   },
   {
    "duration": 3,
    "start_time": "2022-02-15T16:21:48.266Z"
   },
   {
    "duration": 1041,
    "start_time": "2022-02-15T16:21:48.271Z"
   },
   {
    "duration": 142,
    "start_time": "2022-02-15T16:21:49.314Z"
   },
   {
    "duration": 412,
    "start_time": "2022-02-15T16:21:49.513Z"
   },
   {
    "duration": 100,
    "start_time": "2022-02-15T16:21:49.927Z"
   },
   {
    "duration": 909,
    "start_time": "2022-02-15T16:21:50.029Z"
   },
   {
    "duration": 11,
    "start_time": "2022-02-15T16:21:50.939Z"
   },
   {
    "duration": 672,
    "start_time": "2022-02-15T16:21:50.951Z"
   },
   {
    "duration": 2593,
    "start_time": "2022-02-15T16:21:51.625Z"
   },
   {
    "duration": 4297,
    "start_time": "2022-02-15T16:21:54.220Z"
   },
   {
    "duration": 2505,
    "start_time": "2022-02-15T16:21:58.519Z"
   },
   {
    "duration": -70,
    "start_time": "2022-02-15T16:22:01.096Z"
   },
   {
    "duration": -74,
    "start_time": "2022-02-15T16:22:01.101Z"
   },
   {
    "duration": 1541,
    "start_time": "2022-02-15T16:24:32.173Z"
   },
   {
    "duration": 836,
    "start_time": "2022-02-15T16:24:54.216Z"
   },
   {
    "duration": 246,
    "start_time": "2022-02-15T16:25:22.408Z"
   },
   {
    "duration": 260,
    "start_time": "2022-02-15T16:26:14.914Z"
   },
   {
    "duration": 36,
    "start_time": "2022-02-15T16:26:44.639Z"
   },
   {
    "duration": 235,
    "start_time": "2022-02-15T16:26:48.015Z"
   },
   {
    "duration": 593,
    "start_time": "2022-02-15T16:27:07.020Z"
   },
   {
    "duration": 15,
    "start_time": "2022-02-15T16:37:19.990Z"
   },
   {
    "duration": 230,
    "start_time": "2022-02-15T16:39:26.902Z"
   },
   {
    "duration": 389,
    "start_time": "2022-02-15T16:44:13.738Z"
   },
   {
    "duration": 1178,
    "start_time": "2022-02-15T16:46:34.176Z"
   },
   {
    "duration": 3600,
    "start_time": "2022-02-15T16:50:03.629Z"
   },
   {
    "duration": 39,
    "start_time": "2022-02-15T16:50:18.270Z"
   },
   {
    "duration": 669,
    "start_time": "2022-02-15T16:50:32.547Z"
   },
   {
    "duration": 1314,
    "start_time": "2022-02-15T16:50:51.956Z"
   },
   {
    "duration": 13841,
    "start_time": "2022-02-15T16:52:52.200Z"
   },
   {
    "duration": 5891,
    "start_time": "2022-02-15T16:53:06.044Z"
   },
   {
    "duration": 76,
    "start_time": "2022-02-15T16:53:11.937Z"
   },
   {
    "duration": 519,
    "start_time": "2022-02-15T16:53:12.016Z"
   },
   {
    "duration": 4918,
    "start_time": "2022-02-15T16:53:12.536Z"
   },
   {
    "duration": 2706,
    "start_time": "2022-02-15T16:53:17.513Z"
   },
   {
    "duration": 692,
    "start_time": "2022-02-15T16:53:20.220Z"
   },
   {
    "duration": 2,
    "start_time": "2022-02-15T16:53:20.914Z"
   },
   {
    "duration": 2790,
    "start_time": "2022-02-15T16:53:20.924Z"
   },
   {
    "duration": 2,
    "start_time": "2022-02-15T16:53:23.717Z"
   },
   {
    "duration": 931,
    "start_time": "2022-02-15T16:53:23.721Z"
   },
   {
    "duration": 113,
    "start_time": "2022-02-15T16:53:24.713Z"
   },
   {
    "duration": 410,
    "start_time": "2022-02-15T16:53:24.828Z"
   },
   {
    "duration": 177,
    "start_time": "2022-02-15T16:53:25.240Z"
   },
   {
    "duration": 915,
    "start_time": "2022-02-15T16:53:25.418Z"
   },
   {
    "duration": 8,
    "start_time": "2022-02-15T16:53:26.334Z"
   },
   {
    "duration": 614,
    "start_time": "2022-02-15T16:53:26.344Z"
   },
   {
    "duration": 2335,
    "start_time": "2022-02-15T16:53:27.012Z"
   },
   {
    "duration": 4004,
    "start_time": "2022-02-15T16:53:29.413Z"
   },
   {
    "duration": 95,
    "start_time": "2022-02-15T16:53:33.418Z"
   },
   {
    "duration": 661,
    "start_time": "2022-02-15T16:53:33.515Z"
   },
   {
    "duration": 1542,
    "start_time": "2022-02-15T16:53:34.178Z"
   },
   {
    "duration": 2514,
    "start_time": "2022-02-15T16:53:35.722Z"
   },
   {
    "duration": 91,
    "start_time": "2022-02-15T16:53:38.237Z"
   },
   {
    "duration": 461,
    "start_time": "2022-02-15T16:53:38.329Z"
   },
   {
    "duration": 325,
    "start_time": "2022-02-15T16:53:38.792Z"
   },
   {
    "duration": 37,
    "start_time": "2022-02-15T16:54:17.823Z"
   },
   {
    "duration": 15,
    "start_time": "2022-02-15T16:54:30.667Z"
   },
   {
    "duration": 278,
    "start_time": "2022-02-15T16:54:32.871Z"
   },
   {
    "duration": 287,
    "start_time": "2022-02-15T16:55:14.894Z"
   },
   {
    "duration": 2280,
    "start_time": "2022-02-15T16:55:25.578Z"
   },
   {
    "duration": 39,
    "start_time": "2022-02-15T16:55:28.691Z"
   },
   {
    "duration": 270,
    "start_time": "2022-02-15T16:55:32.696Z"
   },
   {
    "duration": 3260,
    "start_time": "2022-02-15T16:56:58.457Z"
   },
   {
    "duration": 38,
    "start_time": "2022-02-15T16:57:02.417Z"
   },
   {
    "duration": 274,
    "start_time": "2022-02-15T16:57:09.796Z"
   },
   {
    "duration": 13754,
    "start_time": "2022-02-15T16:57:45.669Z"
   },
   {
    "duration": 6714,
    "start_time": "2022-02-15T16:57:59.425Z"
   },
   {
    "duration": 28,
    "start_time": "2022-02-15T16:58:06.141Z"
   },
   {
    "duration": 609,
    "start_time": "2022-02-15T16:58:06.213Z"
   },
   {
    "duration": 5207,
    "start_time": "2022-02-15T16:58:06.824Z"
   },
   {
    "duration": 2787,
    "start_time": "2022-02-15T16:58:12.033Z"
   },
   {
    "duration": 607,
    "start_time": "2022-02-15T16:58:14.822Z"
   },
   {
    "duration": 2,
    "start_time": "2022-02-15T16:58:15.431Z"
   },
   {
    "duration": 2476,
    "start_time": "2022-02-15T16:58:15.437Z"
   },
   {
    "duration": 3,
    "start_time": "2022-02-15T16:58:17.915Z"
   },
   {
    "duration": 831,
    "start_time": "2022-02-15T16:58:17.920Z"
   },
   {
    "duration": 170,
    "start_time": "2022-02-15T16:58:18.752Z"
   },
   {
    "duration": 342,
    "start_time": "2022-02-15T16:58:18.923Z"
   },
   {
    "duration": 101,
    "start_time": "2022-02-15T16:58:19.267Z"
   },
   {
    "duration": 901,
    "start_time": "2022-02-15T16:58:19.413Z"
   },
   {
    "duration": 9,
    "start_time": "2022-02-15T16:58:20.315Z"
   },
   {
    "duration": 618,
    "start_time": "2022-02-15T16:58:20.326Z"
   },
   {
    "duration": 2373,
    "start_time": "2022-02-15T16:58:20.946Z"
   },
   {
    "duration": 3941,
    "start_time": "2022-02-15T16:58:23.321Z"
   },
   {
    "duration": 55,
    "start_time": "2022-02-15T16:58:27.263Z"
   },
   {
    "duration": 796,
    "start_time": "2022-02-15T16:58:27.320Z"
   },
   {
    "duration": 1656,
    "start_time": "2022-02-15T16:58:28.118Z"
   },
   {
    "duration": 3082,
    "start_time": "2022-02-15T16:58:29.776Z"
   },
   {
    "duration": 83,
    "start_time": "2022-02-15T16:58:32.859Z"
   },
   {
    "duration": 362,
    "start_time": "2022-02-15T16:58:32.943Z"
   },
   {
    "duration": -13,
    "start_time": "2022-02-15T16:58:33.321Z"
   },
   {
    "duration": 6,
    "start_time": "2022-02-15T17:20:19.007Z"
   },
   {
    "duration": 8,
    "start_time": "2022-02-15T17:21:58.074Z"
   },
   {
    "duration": 9,
    "start_time": "2022-02-15T17:22:14.758Z"
   },
   {
    "duration": 2665,
    "start_time": "2022-02-15T17:22:16.179Z"
   },
   {
    "duration": 43,
    "start_time": "2022-02-15T17:22:19.665Z"
   },
   {
    "duration": 270,
    "start_time": "2022-02-15T17:22:21.238Z"
   },
   {
    "duration": 13625,
    "start_time": "2022-02-15T17:23:19.734Z"
   },
   {
    "duration": 5974,
    "start_time": "2022-02-15T17:23:33.361Z"
   },
   {
    "duration": 88,
    "start_time": "2022-02-15T17:23:39.337Z"
   },
   {
    "duration": 600,
    "start_time": "2022-02-15T17:23:39.427Z"
   },
   {
    "duration": 5008,
    "start_time": "2022-02-15T17:23:40.028Z"
   },
   {
    "duration": 2899,
    "start_time": "2022-02-15T17:23:45.038Z"
   },
   {
    "duration": 601,
    "start_time": "2022-02-15T17:23:47.939Z"
   },
   {
    "duration": 2,
    "start_time": "2022-02-15T17:23:48.542Z"
   },
   {
    "duration": 2691,
    "start_time": "2022-02-15T17:23:48.546Z"
   },
   {
    "duration": 3,
    "start_time": "2022-02-15T17:23:51.239Z"
   },
   {
    "duration": 903,
    "start_time": "2022-02-15T17:23:51.243Z"
   },
   {
    "duration": 190,
    "start_time": "2022-02-15T17:23:52.148Z"
   },
   {
    "duration": 398,
    "start_time": "2022-02-15T17:23:52.340Z"
   },
   {
    "duration": 97,
    "start_time": "2022-02-15T17:23:52.740Z"
   },
   {
    "duration": 903,
    "start_time": "2022-02-15T17:23:52.839Z"
   },
   {
    "duration": 69,
    "start_time": "2022-02-15T17:23:53.744Z"
   },
   {
    "duration": 699,
    "start_time": "2022-02-15T17:23:53.814Z"
   },
   {
    "duration": 2297,
    "start_time": "2022-02-15T17:23:54.515Z"
   },
   {
    "duration": 3850,
    "start_time": "2022-02-15T17:23:56.815Z"
   },
   {
    "duration": 68,
    "start_time": "2022-02-15T17:24:00.666Z"
   },
   {
    "duration": 776,
    "start_time": "2022-02-15T17:24:00.736Z"
   },
   {
    "duration": 1813,
    "start_time": "2022-02-15T17:24:01.514Z"
   },
   {
    "duration": 5,
    "start_time": "2022-02-15T17:24:03.330Z"
   },
   {
    "duration": 14,
    "start_time": "2022-02-15T17:24:03.337Z"
   },
   {
    "duration": 3189,
    "start_time": "2022-02-15T17:24:03.353Z"
   },
   {
    "duration": 106,
    "start_time": "2022-02-15T17:24:06.544Z"
   },
   {
    "duration": 411,
    "start_time": "2022-02-15T17:24:06.651Z"
   },
   {
    "duration": 45,
    "start_time": "2022-02-15T17:24:07.019Z"
   },
   {
    "duration": 246,
    "start_time": "2022-02-15T17:24:24.229Z"
   },
   {
    "duration": 14039,
    "start_time": "2022-02-15T17:25:22.421Z"
   },
   {
    "duration": 6101,
    "start_time": "2022-02-15T17:25:36.462Z"
   },
   {
    "duration": 73,
    "start_time": "2022-02-15T17:25:42.565Z"
   },
   {
    "duration": 573,
    "start_time": "2022-02-15T17:25:42.640Z"
   },
   {
    "duration": 5102,
    "start_time": "2022-02-15T17:25:43.215Z"
   },
   {
    "duration": 2846,
    "start_time": "2022-02-15T17:25:48.319Z"
   },
   {
    "duration": 583,
    "start_time": "2022-02-15T17:25:51.167Z"
   },
   {
    "duration": 60,
    "start_time": "2022-02-15T17:25:51.752Z"
   },
   {
    "duration": 2461,
    "start_time": "2022-02-15T17:25:51.816Z"
   },
   {
    "duration": 3,
    "start_time": "2022-02-15T17:25:54.279Z"
   },
   {
    "duration": 935,
    "start_time": "2022-02-15T17:25:54.284Z"
   },
   {
    "duration": 201,
    "start_time": "2022-02-15T17:25:55.221Z"
   },
   {
    "duration": 399,
    "start_time": "2022-02-15T17:25:55.424Z"
   },
   {
    "duration": 120,
    "start_time": "2022-02-15T17:25:55.825Z"
   },
   {
    "duration": 966,
    "start_time": "2022-02-15T17:25:55.946Z"
   },
   {
    "duration": 10,
    "start_time": "2022-02-15T17:25:56.914Z"
   },
   {
    "duration": 688,
    "start_time": "2022-02-15T17:25:56.925Z"
   },
   {
    "duration": 2340,
    "start_time": "2022-02-15T17:25:57.615Z"
   },
   {
    "duration": 4616,
    "start_time": "2022-02-15T17:26:00.014Z"
   },
   {
    "duration": 95,
    "start_time": "2022-02-15T17:26:04.632Z"
   },
   {
    "duration": 904,
    "start_time": "2022-02-15T17:26:04.728Z"
   },
   {
    "duration": 2091,
    "start_time": "2022-02-15T17:26:05.634Z"
   },
   {
    "duration": 4,
    "start_time": "2022-02-15T17:26:07.727Z"
   },
   {
    "duration": 11,
    "start_time": "2022-02-15T17:26:07.733Z"
   },
   {
    "duration": 3504,
    "start_time": "2022-02-15T17:26:07.745Z"
   },
   {
    "duration": 90,
    "start_time": "2022-02-15T17:26:11.251Z"
   },
   {
    "duration": 2,
    "start_time": "2022-02-15T17:26:11.344Z"
   },
   {
    "duration": 402,
    "start_time": "2022-02-15T17:26:11.348Z"
   },
   {
    "duration": 2462,
    "start_time": "2022-02-15T17:26:40.307Z"
   },
   {
    "duration": 41,
    "start_time": "2022-02-15T17:26:44.454Z"
   },
   {
    "duration": 2,
    "start_time": "2022-02-15T17:26:47.176Z"
   },
   {
    "duration": 250,
    "start_time": "2022-02-15T17:26:51.804Z"
   },
   {
    "duration": 13708,
    "start_time": "2022-02-15T17:27:19.453Z"
   },
   {
    "duration": 5875,
    "start_time": "2022-02-15T17:27:33.163Z"
   },
   {
    "duration": 98,
    "start_time": "2022-02-15T17:27:39.040Z"
   },
   {
    "duration": 516,
    "start_time": "2022-02-15T17:27:39.140Z"
   },
   {
    "duration": 5073,
    "start_time": "2022-02-15T17:27:39.658Z"
   },
   {
    "duration": 2915,
    "start_time": "2022-02-15T17:27:44.733Z"
   },
   {
    "duration": 667,
    "start_time": "2022-02-15T17:27:47.650Z"
   },
   {
    "duration": 3,
    "start_time": "2022-02-15T17:27:48.319Z"
   },
   {
    "duration": 2488,
    "start_time": "2022-02-15T17:27:48.325Z"
   },
   {
    "duration": 3,
    "start_time": "2022-02-15T17:27:50.816Z"
   },
   {
    "duration": 992,
    "start_time": "2022-02-15T17:27:50.820Z"
   },
   {
    "duration": 115,
    "start_time": "2022-02-15T17:27:51.814Z"
   },
   {
    "duration": 409,
    "start_time": "2022-02-15T17:27:51.930Z"
   },
   {
    "duration": 124,
    "start_time": "2022-02-15T17:27:52.341Z"
   },
   {
    "duration": 955,
    "start_time": "2022-02-15T17:27:52.467Z"
   },
   {
    "duration": 8,
    "start_time": "2022-02-15T17:27:53.424Z"
   },
   {
    "duration": 710,
    "start_time": "2022-02-15T17:27:53.433Z"
   },
   {
    "duration": 2671,
    "start_time": "2022-02-15T17:27:54.145Z"
   },
   {
    "duration": 3819,
    "start_time": "2022-02-15T17:27:56.818Z"
   },
   {
    "duration": 80,
    "start_time": "2022-02-15T17:28:00.638Z"
   },
   {
    "duration": 793,
    "start_time": "2022-02-15T17:28:00.720Z"
   },
   {
    "duration": 1918,
    "start_time": "2022-02-15T17:28:01.515Z"
   },
   {
    "duration": 5,
    "start_time": "2022-02-15T17:28:03.434Z"
   },
   {
    "duration": 17,
    "start_time": "2022-02-15T17:28:03.441Z"
   },
   {
    "duration": 2917,
    "start_time": "2022-02-15T17:28:03.460Z"
   },
   {
    "duration": 66,
    "start_time": "2022-02-15T17:28:06.379Z"
   },
   {
    "duration": 2,
    "start_time": "2022-02-15T17:28:06.448Z"
   },
   {
    "duration": 400,
    "start_time": "2022-02-15T17:28:06.451Z"
   },
   {
    "duration": 5,
    "start_time": "2022-02-15T17:28:48.247Z"
   },
   {
    "duration": 281,
    "start_time": "2022-02-15T17:29:00.792Z"
   },
   {
    "duration": 388,
    "start_time": "2022-02-15T17:30:21.754Z"
   },
   {
    "duration": 1468,
    "start_time": "2022-02-15T17:30:43.661Z"
   },
   {
    "duration": 14131,
    "start_time": "2022-02-15T17:31:18.589Z"
   },
   {
    "duration": 5922,
    "start_time": "2022-02-15T17:31:32.723Z"
   },
   {
    "duration": 86,
    "start_time": "2022-02-15T17:31:38.647Z"
   },
   {
    "duration": 522,
    "start_time": "2022-02-15T17:31:38.735Z"
   },
   {
    "duration": 5063,
    "start_time": "2022-02-15T17:31:39.259Z"
   },
   {
    "duration": 2903,
    "start_time": "2022-02-15T17:31:44.324Z"
   },
   {
    "duration": 618,
    "start_time": "2022-02-15T17:31:47.229Z"
   },
   {
    "duration": 2,
    "start_time": "2022-02-15T17:31:47.914Z"
   },
   {
    "duration": 2606,
    "start_time": "2022-02-15T17:31:47.918Z"
   },
   {
    "duration": 3,
    "start_time": "2022-02-15T17:31:50.526Z"
   },
   {
    "duration": 922,
    "start_time": "2022-02-15T17:31:50.530Z"
   },
   {
    "duration": 201,
    "start_time": "2022-02-15T17:31:51.454Z"
   },
   {
    "duration": 403,
    "start_time": "2022-02-15T17:31:51.713Z"
   },
   {
    "duration": 107,
    "start_time": "2022-02-15T17:31:52.118Z"
   },
   {
    "duration": 906,
    "start_time": "2022-02-15T17:31:52.227Z"
   },
   {
    "duration": 8,
    "start_time": "2022-02-15T17:31:53.135Z"
   },
   {
    "duration": 671,
    "start_time": "2022-02-15T17:31:53.145Z"
   },
   {
    "duration": 2352,
    "start_time": "2022-02-15T17:31:53.817Z"
   },
   {
    "duration": 4154,
    "start_time": "2022-02-15T17:31:56.212Z"
   },
   {
    "duration": 66,
    "start_time": "2022-02-15T17:32:00.368Z"
   },
   {
    "duration": 735,
    "start_time": "2022-02-15T17:32:00.436Z"
   },
   {
    "duration": 1949,
    "start_time": "2022-02-15T17:32:01.173Z"
   },
   {
    "duration": 6,
    "start_time": "2022-02-15T17:32:03.126Z"
   },
   {
    "duration": 14,
    "start_time": "2022-02-15T17:32:03.133Z"
   },
   {
    "duration": 3098,
    "start_time": "2022-02-15T17:32:03.149Z"
   },
   {
    "duration": 91,
    "start_time": "2022-02-15T17:32:06.248Z"
   },
   {
    "duration": 476,
    "start_time": "2022-02-15T17:32:06.341Z"
   },
   {
    "duration": 1509,
    "start_time": "2022-02-15T17:32:06.818Z"
   },
   {
    "duration": 300,
    "start_time": "2022-02-15T17:36:19.804Z"
   },
   {
    "duration": 482,
    "start_time": "2022-02-15T17:36:24.833Z"
   },
   {
    "duration": 13516,
    "start_time": "2022-02-15T17:55:44.852Z"
   },
   {
    "duration": 6464,
    "start_time": "2022-02-15T17:55:58.371Z"
   },
   {
    "duration": 86,
    "start_time": "2022-02-15T17:56:04.840Z"
   },
   {
    "duration": 695,
    "start_time": "2022-02-15T17:56:04.928Z"
   },
   {
    "duration": 4298,
    "start_time": "2022-02-15T17:56:05.624Z"
   },
   {
    "duration": 721,
    "start_time": "2022-02-15T17:56:09.924Z"
   },
   {
    "duration": 3011,
    "start_time": "2022-02-15T17:56:10.648Z"
   },
   {
    "duration": 3,
    "start_time": "2022-02-15T17:56:13.661Z"
   },
   {
    "duration": 1050,
    "start_time": "2022-02-15T17:56:13.666Z"
   },
   {
    "duration": 138,
    "start_time": "2022-02-15T17:56:14.718Z"
   },
   {
    "duration": 419,
    "start_time": "2022-02-15T17:56:14.913Z"
   },
   {
    "duration": 183,
    "start_time": "2022-02-15T17:56:15.334Z"
   },
   {
    "duration": 906,
    "start_time": "2022-02-15T17:56:15.519Z"
   },
   {
    "duration": 10,
    "start_time": "2022-02-15T17:56:16.426Z"
   },
   {
    "duration": 712,
    "start_time": "2022-02-15T17:56:16.438Z"
   },
   {
    "duration": 2569,
    "start_time": "2022-02-15T17:56:17.152Z"
   },
   {
    "duration": 4289,
    "start_time": "2022-02-15T17:56:19.723Z"
   },
   {
    "duration": 98,
    "start_time": "2022-02-15T17:56:24.014Z"
   },
   {
    "duration": 898,
    "start_time": "2022-02-15T17:56:24.114Z"
   },
   {
    "duration": 2328,
    "start_time": "2022-02-15T17:56:25.014Z"
   },
   {
    "duration": 5,
    "start_time": "2022-02-15T17:56:27.344Z"
   },
   {
    "duration": 71,
    "start_time": "2022-02-15T17:56:27.352Z"
   },
   {
    "duration": 2901,
    "start_time": "2022-02-15T17:56:27.425Z"
   },
   {
    "duration": 96,
    "start_time": "2022-02-15T17:56:30.328Z"
   },
   {
    "duration": 674,
    "start_time": "2022-02-15T17:56:30.426Z"
   },
   {
    "duration": 1753,
    "start_time": "2022-02-15T17:56:31.102Z"
   },
   {
    "duration": 18264,
    "start_time": "2022-02-16T08:43:50.302Z"
   },
   {
    "duration": 11995,
    "start_time": "2022-02-16T08:44:08.569Z"
   },
   {
    "duration": 38,
    "start_time": "2022-02-16T08:44:20.568Z"
   },
   {
    "duration": 961,
    "start_time": "2022-02-16T08:44:20.609Z"
   },
   {
    "duration": 7084,
    "start_time": "2022-02-16T08:44:21.572Z"
   },
   {
    "duration": 1315,
    "start_time": "2022-02-16T08:44:28.660Z"
   },
   {
    "duration": 5889,
    "start_time": "2022-02-16T08:44:29.977Z"
   },
   {
    "duration": 4,
    "start_time": "2022-02-16T08:44:35.873Z"
   },
   {
    "duration": 1579,
    "start_time": "2022-02-16T08:44:35.882Z"
   },
   {
    "duration": 184,
    "start_time": "2022-02-16T08:44:37.464Z"
   },
   {
    "duration": 699,
    "start_time": "2022-02-16T08:44:37.653Z"
   },
   {
    "duration": 310,
    "start_time": "2022-02-16T08:44:38.355Z"
   },
   {
    "duration": 1804,
    "start_time": "2022-02-16T08:44:38.668Z"
   },
   {
    "duration": 74,
    "start_time": "2022-02-16T08:44:40.475Z"
   },
   {
    "duration": 1128,
    "start_time": "2022-02-16T08:44:40.552Z"
   },
   {
    "duration": 4383,
    "start_time": "2022-02-16T08:44:41.683Z"
   },
   {
    "duration": 7315,
    "start_time": "2022-02-16T08:44:46.069Z"
   },
   {
    "duration": 126,
    "start_time": "2022-02-16T08:44:53.450Z"
   },
   {
    "duration": 1253,
    "start_time": "2022-02-16T08:44:53.579Z"
   },
   {
    "duration": 3225,
    "start_time": "2022-02-16T08:44:54.850Z"
   },
   {
    "duration": 75,
    "start_time": "2022-02-16T08:44:58.078Z"
   },
   {
    "duration": 21,
    "start_time": "2022-02-16T08:44:58.156Z"
   },
   {
    "duration": 5883,
    "start_time": "2022-02-16T08:44:58.183Z"
   },
   {
    "duration": 109,
    "start_time": "2022-02-16T08:45:04.069Z"
   },
   {
    "duration": 836,
    "start_time": "2022-02-16T08:45:04.181Z"
   },
   {
    "duration": 2442,
    "start_time": "2022-02-16T08:45:05.019Z"
   },
   {
    "duration": 17385,
    "start_time": "2022-02-16T10:05:52.028Z"
   },
   {
    "duration": 10896,
    "start_time": "2022-02-16T10:06:09.417Z"
   },
   {
    "duration": 105,
    "start_time": "2022-02-16T10:06:20.317Z"
   },
   {
    "duration": 797,
    "start_time": "2022-02-16T10:06:20.426Z"
   },
   {
    "duration": 6784,
    "start_time": "2022-02-16T10:06:21.226Z"
   },
   {
    "duration": 1023,
    "start_time": "2022-02-16T10:06:28.013Z"
   },
   {
    "duration": 5512,
    "start_time": "2022-02-16T10:06:29.040Z"
   },
   {
    "duration": 4,
    "start_time": "2022-02-16T10:06:34.613Z"
   },
   {
    "duration": 1824,
    "start_time": "2022-02-16T10:06:34.620Z"
   },
   {
    "duration": 281,
    "start_time": "2022-02-16T10:06:36.446Z"
   },
   {
    "duration": 692,
    "start_time": "2022-02-16T10:06:36.730Z"
   },
   {
    "duration": 228,
    "start_time": "2022-02-16T10:06:37.425Z"
   },
   {
    "duration": 1499,
    "start_time": "2022-02-16T10:06:37.712Z"
   },
   {
    "duration": 17,
    "start_time": "2022-02-16T10:06:39.213Z"
   },
   {
    "duration": 1384,
    "start_time": "2022-02-16T10:06:39.233Z"
   },
   {
    "duration": 4401,
    "start_time": "2022-02-16T10:06:40.620Z"
   },
   {
    "duration": 7411,
    "start_time": "2022-02-16T10:06:45.023Z"
   },
   {
    "duration": 198,
    "start_time": "2022-02-16T10:06:52.437Z"
   },
   {
    "duration": 1217,
    "start_time": "2022-02-16T10:06:52.638Z"
   },
   {
    "duration": 3072,
    "start_time": "2022-02-16T10:06:53.858Z"
   },
   {
    "duration": 14,
    "start_time": "2022-02-16T10:06:56.933Z"
   },
   {
    "duration": 20,
    "start_time": "2022-02-16T10:06:57.010Z"
   },
   {
    "duration": 5981,
    "start_time": "2022-02-16T10:06:57.035Z"
   },
   {
    "duration": 196,
    "start_time": "2022-02-16T10:07:03.019Z"
   },
   {
    "duration": 917,
    "start_time": "2022-02-16T10:07:03.218Z"
   },
   {
    "duration": 2390,
    "start_time": "2022-02-16T10:07:04.138Z"
   },
   {
    "duration": 16789,
    "start_time": "2022-02-16T10:24:19.185Z"
   },
   {
    "duration": 9867,
    "start_time": "2022-02-16T10:24:35.979Z"
   },
   {
    "duration": 99,
    "start_time": "2022-02-16T10:24:45.913Z"
   },
   {
    "duration": 710,
    "start_time": "2022-02-16T10:24:46.015Z"
   },
   {
    "duration": 7083,
    "start_time": "2022-02-16T10:24:46.727Z"
   },
   {
    "duration": 1199,
    "start_time": "2022-02-16T10:24:53.813Z"
   },
   {
    "duration": 4796,
    "start_time": "2022-02-16T10:24:55.015Z"
   },
   {
    "duration": 5,
    "start_time": "2022-02-16T10:24:59.815Z"
   },
   {
    "duration": 1705,
    "start_time": "2022-02-16T10:24:59.826Z"
   },
   {
    "duration": 204,
    "start_time": "2022-02-16T10:25:01.535Z"
   },
   {
    "duration": 709,
    "start_time": "2022-02-16T10:25:01.742Z"
   },
   {
    "duration": 228,
    "start_time": "2022-02-16T10:25:02.512Z"
   },
   {
    "duration": 1599,
    "start_time": "2022-02-16T10:25:02.742Z"
   },
   {
    "duration": 71,
    "start_time": "2022-02-16T10:25:04.344Z"
   },
   {
    "duration": 1098,
    "start_time": "2022-02-16T10:25:04.418Z"
   },
   {
    "duration": 4502,
    "start_time": "2022-02-16T10:25:05.519Z"
   },
   {
    "duration": 7198,
    "start_time": "2022-02-16T10:25:10.024Z"
   },
   {
    "duration": 186,
    "start_time": "2022-02-16T10:25:17.225Z"
   },
   {
    "duration": 1353,
    "start_time": "2022-02-16T10:25:17.414Z"
   },
   {
    "duration": 3360,
    "start_time": "2022-02-16T10:25:18.770Z"
   },
   {
    "duration": 7,
    "start_time": "2022-02-16T10:25:22.133Z"
   },
   {
    "duration": 84,
    "start_time": "2022-02-16T10:25:22.143Z"
   },
   {
    "duration": 4688,
    "start_time": "2022-02-16T10:25:22.230Z"
   },
   {
    "duration": 211,
    "start_time": "2022-02-16T10:25:26.921Z"
   },
   {
    "duration": 1304,
    "start_time": "2022-02-16T10:25:27.135Z"
   },
   {
    "duration": 2372,
    "start_time": "2022-02-16T10:25:28.442Z"
   },
   {
    "duration": 531,
    "start_time": "2022-02-16T10:31:42.898Z"
   },
   {
    "duration": 17335,
    "start_time": "2022-02-16T10:38:02.581Z"
   },
   {
    "duration": 10217,
    "start_time": "2022-02-16T10:38:19.921Z"
   },
   {
    "duration": 95,
    "start_time": "2022-02-16T10:38:30.142Z"
   },
   {
    "duration": 895,
    "start_time": "2022-02-16T10:38:30.240Z"
   },
   {
    "duration": 6497,
    "start_time": "2022-02-16T10:38:31.138Z"
   },
   {
    "duration": 1194,
    "start_time": "2022-02-16T10:38:37.638Z"
   },
   {
    "duration": 4886,
    "start_time": "2022-02-16T10:38:38.835Z"
   },
   {
    "duration": 5,
    "start_time": "2022-02-16T10:38:43.727Z"
   },
   {
    "duration": 1535,
    "start_time": "2022-02-16T10:38:43.735Z"
   },
   {
    "duration": 237,
    "start_time": "2022-02-16T10:38:45.312Z"
   },
   {
    "duration": 675,
    "start_time": "2022-02-16T10:38:45.552Z"
   },
   {
    "duration": 279,
    "start_time": "2022-02-16T10:38:46.230Z"
   },
   {
    "duration": 1500,
    "start_time": "2022-02-16T10:38:46.512Z"
   },
   {
    "duration": 11,
    "start_time": "2022-02-16T10:38:48.014Z"
   },
   {
    "duration": 1213,
    "start_time": "2022-02-16T10:38:48.028Z"
   },
   {
    "duration": 4095,
    "start_time": "2022-02-16T10:38:49.244Z"
   },
   {
    "duration": 6568,
    "start_time": "2022-02-16T10:38:53.342Z"
   },
   {
    "duration": 198,
    "start_time": "2022-02-16T10:38:59.913Z"
   },
   {
    "duration": 1219,
    "start_time": "2022-02-16T10:39:00.113Z"
   },
   {
    "duration": 3600,
    "start_time": "2022-02-16T10:39:01.336Z"
   },
   {
    "duration": 15,
    "start_time": "2022-02-16T10:39:04.939Z"
   },
   {
    "duration": 26,
    "start_time": "2022-02-16T10:39:05.012Z"
   },
   {
    "duration": 4915,
    "start_time": "2022-02-16T10:39:05.044Z"
   },
   {
    "duration": 151,
    "start_time": "2022-02-16T10:39:09.962Z"
   },
   {
    "duration": 884,
    "start_time": "2022-02-16T10:39:10.116Z"
   },
   {
    "duration": 2202,
    "start_time": "2022-02-16T10:39:11.011Z"
   },
   {
    "duration": 17769,
    "start_time": "2022-02-17T05:54:34.710Z"
   },
   {
    "duration": 10319,
    "start_time": "2022-02-17T05:54:52.483Z"
   },
   {
    "duration": 162,
    "start_time": "2022-02-17T05:55:02.807Z"
   },
   {
    "duration": 815,
    "start_time": "2022-02-17T05:55:02.973Z"
   },
   {
    "duration": 7307,
    "start_time": "2022-02-17T05:55:03.791Z"
   },
   {
    "duration": 1171,
    "start_time": "2022-02-17T05:55:11.101Z"
   },
   {
    "duration": 5018,
    "start_time": "2022-02-17T05:55:12.275Z"
   },
   {
    "duration": 4,
    "start_time": "2022-02-17T05:55:17.297Z"
   },
   {
    "duration": 1866,
    "start_time": "2022-02-17T05:55:17.304Z"
   },
   {
    "duration": 133,
    "start_time": "2022-02-17T05:55:19.173Z"
   },
   {
    "duration": 785,
    "start_time": "2022-02-17T05:55:19.309Z"
   },
   {
    "duration": 218,
    "start_time": "2022-02-17T05:55:20.097Z"
   },
   {
    "duration": 1596,
    "start_time": "2022-02-17T05:55:20.317Z"
   },
   {
    "duration": 16,
    "start_time": "2022-02-17T05:55:21.970Z"
   },
   {
    "duration": 1115,
    "start_time": "2022-02-17T05:55:21.989Z"
   },
   {
    "duration": 4330,
    "start_time": "2022-02-17T05:55:23.171Z"
   },
   {
    "duration": 6730,
    "start_time": "2022-02-17T05:55:27.570Z"
   },
   {
    "duration": 203,
    "start_time": "2022-02-17T05:55:34.302Z"
   },
   {
    "duration": 1125,
    "start_time": "2022-02-17T05:55:34.569Z"
   },
   {
    "duration": 3234,
    "start_time": "2022-02-17T05:55:35.697Z"
   },
   {
    "duration": 8971,
    "start_time": "2022-02-17T05:56:16.101Z"
   },
   {
    "duration": 24,
    "start_time": "2022-02-17T05:56:46.155Z"
   },
   {
    "duration": 17,
    "start_time": "2022-02-17T06:00:36.830Z"
   },
   {
    "duration": 9,
    "start_time": "2022-02-17T06:00:42.264Z"
   },
   {
    "duration": 83,
    "start_time": "2022-02-17T06:01:27.313Z"
   },
   {
    "duration": 5,
    "start_time": "2022-02-17T06:02:26.202Z"
   },
   {
    "duration": 40,
    "start_time": "2022-02-17T06:02:34.105Z"
   },
   {
    "duration": 388,
    "start_time": "2022-02-17T06:02:48.025Z"
   },
   {
    "duration": 36,
    "start_time": "2022-02-17T06:02:54.219Z"
   },
   {
    "duration": 1274,
    "start_time": "2022-02-17T06:03:38.595Z"
   },
   {
    "duration": 36406,
    "start_time": "2022-02-17T09:02:25.514Z"
   },
   {
    "duration": 12593,
    "start_time": "2022-02-17T09:03:01.923Z"
   },
   {
    "duration": 111,
    "start_time": "2022-02-17T09:03:14.519Z"
   },
   {
    "duration": 786,
    "start_time": "2022-02-17T09:03:14.632Z"
   },
   {
    "duration": 5207,
    "start_time": "2022-02-17T09:03:15.420Z"
   },
   {
    "duration": 878,
    "start_time": "2022-02-17T09:03:20.629Z"
   },
   {
    "duration": 3806,
    "start_time": "2022-02-17T09:03:21.510Z"
   },
   {
    "duration": 5,
    "start_time": "2022-02-17T09:03:25.319Z"
   },
   {
    "duration": 2480,
    "start_time": "2022-02-17T09:03:25.327Z"
   },
   {
    "duration": 212,
    "start_time": "2022-02-17T09:03:27.809Z"
   },
   {
    "duration": 700,
    "start_time": "2022-02-17T09:03:28.026Z"
   },
   {
    "duration": 186,
    "start_time": "2022-02-17T09:03:28.729Z"
   },
   {
    "duration": 1635,
    "start_time": "2022-02-17T09:03:28.919Z"
   },
   {
    "duration": 61,
    "start_time": "2022-02-17T09:03:30.557Z"
   },
   {
    "duration": 1089,
    "start_time": "2022-02-17T09:03:30.621Z"
   },
   {
    "duration": 3717,
    "start_time": "2022-02-17T09:03:31.714Z"
   },
   {
    "duration": 6481,
    "start_time": "2022-02-17T09:03:35.434Z"
   },
   {
    "duration": 108,
    "start_time": "2022-02-17T09:03:41.918Z"
   },
   {
    "duration": 1130,
    "start_time": "2022-02-17T09:03:42.029Z"
   },
   {
    "duration": 3030,
    "start_time": "2022-02-17T09:03:43.209Z"
   },
   {
    "duration": 76,
    "start_time": "2022-02-17T09:03:46.241Z"
   },
   {
    "duration": 15,
    "start_time": "2022-02-17T09:03:46.319Z"
   },
   {
    "duration": 5292,
    "start_time": "2022-02-17T09:03:46.337Z"
   },
   {
    "duration": 181,
    "start_time": "2022-02-17T09:03:51.631Z"
   },
   {
    "duration": 993,
    "start_time": "2022-02-17T09:03:51.814Z"
   },
   {
    "duration": 2111,
    "start_time": "2022-02-17T09:03:52.809Z"
   }
  ],
  "colab": {
   "name": "PySparkSprint.ipynb",
   "provenance": []
  },
  "kernelspec": {
   "display_name": "Python 3 (ipykernel)",
   "language": "python",
   "name": "python3"
  },
  "language_info": {
   "codemirror_mode": {
    "name": "ipython",
    "version": 3
   },
   "file_extension": ".py",
   "mimetype": "text/x-python",
   "name": "python",
   "nbconvert_exporter": "python",
   "pygments_lexer": "ipython3",
   "version": "3.8.13"
  },
  "toc": {
   "base_numbering": 1,
   "nav_menu": {},
   "number_sections": true,
   "sideBar": true,
   "skip_h1_title": true,
   "title_cell": "Table of Contents",
   "title_sidebar": "Contents",
   "toc_cell": false,
   "toc_position": {},
   "toc_section_display": true,
   "toc_window_display": true
  }
 },
 "nbformat": 4,
 "nbformat_minor": 5
}
